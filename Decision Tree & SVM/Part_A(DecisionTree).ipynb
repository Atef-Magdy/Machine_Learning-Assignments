{
 "metadata": {
  "language_info": {
   "codemirror_mode": {
    "name": "ipython",
    "version": 3
   },
   "file_extension": ".py",
   "mimetype": "text/x-python",
   "name": "python",
   "nbconvert_exporter": "python",
   "pygments_lexer": "ipython3",
   "version": "3.8.3-final"
  },
  "orig_nbformat": 2,
  "kernelspec": {
   "name": "python_defaultSpec_1610240623600",
   "display_name": "Python 3.8.3 64-bit"
  }
 },
 "nbformat": 4,
 "nbformat_minor": 2,
 "cells": [
  {
   "cell_type": "code",
   "execution_count": 1,
   "metadata": {},
   "outputs": [],
   "source": [
    "import numpy as np"
   ]
  },
  {
   "cell_type": "code",
   "execution_count": 2,
   "metadata": {
    "tags": []
   },
   "outputs": [],
   "source": [
    "#Reading data\n",
    "datafile = 'Part_A_Dataset/house-votes-84.data.txt'\n",
    "original = np.genfromtxt(datafile,dtype='str',delimiter=',')\n",
    "cols = original.copy()\n",
    "\n",
    "for row in cols :\n",
    "    yesCount = row[row=='y'].size\n",
    "    noCount = row[row=='n'].size\n",
    "    if(yesCount>=noCount):\n",
    "        row[row=='?'] = 'y'\n",
    "    else:\n",
    "        row[row=='?'] = 'n'\n",
    "\n",
    "#new, X, y = splitRandom(cols,25)   #to get parameters"
   ]
  },
  {
   "cell_type": "code",
   "execution_count": 3,
   "metadata": {
    "tags": []
   },
   "outputs": [],
   "source": [
    "def splitRandom(cols, percent):\n",
    "    rng = np.random.default_rng()\n",
    "    choise = np.random.choice(cols.shape[0], int(cols.shape[0] * (percent / 100)),replace=False)\n",
    "    new = cols[choise]\n",
    "    rem = np.delete(cols, choise, axis=0)\n",
    "    return new,rem"
   ]
  },
  {
   "cell_type": "code",
   "execution_count": 4,
   "metadata": {},
   "outputs": [],
   "source": [
    "class Node:\n",
    "    def __init__(self):\n",
    "        self.col = None\n",
    "        self.remainingCols = None\n",
    "        self.bestIndex = None\n",
    "        self.IG = None\n",
    "        self.data = None\n",
    "        self.EntropyYes = None\n",
    "        self.EntropyNo = None\n",
    "        self.rightY = None\n",
    "        self.mid = None\n",
    "        self.leftN = None\n",
    "        self.Class = None\n",
    "\n",
    "    def printTree(self):\n",
    "        if self.leftN:\n",
    "            self.leftN.printTree()\n",
    "        self.printNode()\n",
    "        if self.rightY:\n",
    "            self.rightY.printTree()\n",
    "        if self.mid:\n",
    "            self.mid.printTree()\n",
    "\n",
    "    def printNode(self):\n",
    "        print(self.col, self.remainingCols, self.bestIndex, self.IG, self.EntropyYes, self.EntropyNo, self.rightY, self.mid, self.leftN, self.Class)\n",
    "        if type(self.data) is np.ndarray:\n",
    "            print(self.data.shape)\n",
    "        else :\n",
    "            print(None)\n",
    "\n",
    "def treeSize(node):\n",
    "    if node is None:\n",
    "        return 0\n",
    "    return 1 + treeSize(node.leftN) + treeSize(node.rightY)\n",
    "\n",
    "def treeSize3(node):\n",
    "    if node is None:\n",
    "        return 0\n",
    "    return 1 + treeSize(node.leftN) + treeSize(node.mid) + treeSize(node.rightY) "
   ]
  },
  {
   "cell_type": "code",
   "execution_count": 5,
   "metadata": {
    "tags": []
   },
   "outputs": [],
   "source": [
    "def GetBestIGNode(data, colNames):\n",
    "    y = data.T[0]\n",
    "    divY = y[y=='republican'].size/y.size\n",
    "    ETarget = -1*( (divY)*np.log2(divY) + (1-divY)*np.log2(1-divY) )\n",
    "    IGs = []\n",
    "    n = data.shape[1]\n",
    "    for i in range(1,n):\n",
    "\n",
    "        #Entropy of y\n",
    "        mask = np.logical_and(data.T[i]=='y', data.T[0]=='republican')\n",
    "        if(data.T[i][data.T[i]=='y'].size == 0):\n",
    "            div1 = 0\n",
    "        else:\n",
    "            div1 = data.T[i][mask].size/data.T[i][data.T[i]=='y'].size\n",
    "        div2 = 1-div1\n",
    "        EntropyYes = -1*((div1)*np.log2(div1) + (div2)*np.log2(div2))\n",
    "        if (div1 == 0 or div1 == 1):\n",
    "            EntropyYes = 0\n",
    "\n",
    "        #Entropy of n\n",
    "        mask = np.logical_and(data.T[i]=='n', data.T[0]=='republican')\n",
    "        if (data.T[i][data.T[i]=='n'].size == 0):\n",
    "            div3 = 0\n",
    "        else:\n",
    "            div3 = data.T[i][mask].size/data.T[i][data.T[i]=='n'].size\n",
    "        div4 = 1-div3\n",
    "        EntropyNo = -1*((div3)*np.log2(div3) + (div4)*np.log2(div4))\n",
    "        if (div3 == 0 or div3 == 1):\n",
    "            EntropyNo = 0\n",
    "        \n",
    "        #Entropy of ?\n",
    "        mask = np.logical_and(data.T[i]=='?', data.T[0]=='republican')\n",
    "        if (data.T[i][data.T[i]=='?'].size == 0):\n",
    "            div5 = 0\n",
    "        else:\n",
    "            div5 = data.T[i][mask].size/data.T[i][data.T[i]=='?'].size\n",
    "        div6 = 1-div5\n",
    "        EntropyQ = -1*((div5)*np.log2(div5) + (div6)*np.log2(div6))\n",
    "        if (div5 == 0 or div5 == 1):\n",
    "            EntropyQ = 0\n",
    "\n",
    "        #Calculate Information Gain\n",
    "        IGs.append(ETarget- ( (data.T[i][data.T[i]=='y'].size/data.T[i].size)*EntropyYes + (data.T[i][data.T[i]=='n'].size/data.T[i].size)*EntropyNo + (data.T[i][data.T[i]=='?'].size/data.T[i].size)*EntropyQ ) )\n",
    "\n",
    "    bestIndex = IGs.index(max(IGs))\n",
    "    best = Node()\n",
    "    best.col = colNames[bestIndex]\n",
    "    best.remainingCols = colNames[:bestIndex]+colNames[bestIndex+1:]\n",
    "    best.bestIndex = bestIndex + 1\n",
    "    best.IG = IGs[bestIndex]\n",
    "    best.data = data\n",
    "    best.EntropyYes = EntropyYes\n",
    "    best.EntropyNo = EntropyNo\n",
    "    best.EntropyQ = EntropyQ\n",
    "    if(EntropyYes == 0):\n",
    "        leaf = Node()\n",
    "        leaf.Class = 'republican' if div1>div2 else 'democrat'\n",
    "        best.rightY = leaf\n",
    "    if(EntropyNo == 0):\n",
    "        leaf2 = Node()\n",
    "        leaf2.Class = 'republican' if div3>div4 else 'democrat'\n",
    "        best.leftN  = leaf2\n",
    "    if(EntropyQ == 0):\n",
    "        leaf3 = Node()\n",
    "        leaf3.Class = 'republican' if div5>div6 else 'democrat'\n",
    "        best.mid = leaf3\n",
    "    return best"
   ]
  },
  {
   "cell_type": "code",
   "execution_count": 6,
   "metadata": {
    "tags": []
   },
   "outputs": [],
   "source": [
    "def buildTree(rootNode):\n",
    "    #baseCase\n",
    "    if(rootNode.data.shape[1] == 2):\n",
    "        #right node yes\n",
    "        mask = np.logical_and(data.T[1]=='y', data.T[0]=='republican')\n",
    "        if(data.T[1][data.T[1]=='y'].size == 0):\n",
    "            div1 = 0\n",
    "        else:\n",
    "            div1 = data.T[1][mask].size/data.T[1][data.T[1]=='y'].size\n",
    "        leaf = Node()\n",
    "        leaf.Class = 'republican' if div1>0.5 else 'democrat'\n",
    "        rootNode.rightY = leaf\n",
    "\n",
    "        #left node no\n",
    "        mask = np.logical_and(data.T[1]=='n', data.T[0]=='republican')\n",
    "        if (data.T[1][data.T[1]=='n'].size == 0):\n",
    "            div3 = 0\n",
    "        else:\n",
    "            div3 = data.T[1][mask].size/data.T[1][data.T[1]=='n'].size\n",
    "        leaf2 = Node()\n",
    "        leaf2.Class = 'republican' if div3>0.5 else 'democrat'\n",
    "        rootNode.leftN = leaf2\n",
    "\n",
    "        #mid node ?\n",
    "        mask = np.logical_and(data.T[1]=='?', data.T[0]=='republican')\n",
    "        if (data.T[1][data.T[1]=='?'].size == 0):\n",
    "            div5 = 0\n",
    "        else:\n",
    "            div5 = data.T[1][mask].size/data.T[1][data.T[1]=='?'].size\n",
    "        leaf3 = Node()\n",
    "        leaf3.Class = 'republican' if div5>0.5 else 'democrat'\n",
    "        rootNode.mid = leaf3\n",
    "    else:\n",
    "        \n",
    "        if(rootNode.leftN == None):\n",
    "            newData = np.copy(rootNode.data)\n",
    "            newData = newData[newData[:,rootNode.bestIndex] == 'n']\n",
    "            newData = np.concatenate((newData[:,:rootNode.bestIndex], newData[:,rootNode.bestIndex+1:]), axis = 1)\n",
    "            if newData.shape[0] == 0 :\n",
    "                leaf = Node()\n",
    "                leaf.Class = rootNode.data[0][0]\n",
    "                rootNode.leftN = leaf\n",
    "            else:\n",
    "                rootNode.leftN = buildTree(GetBestIGNode(newData,rootNode.remainingCols))\n",
    "\n",
    "        if(rootNode.mid == None):\n",
    "            newData = np.copy(rootNode.data)\n",
    "            newData = newData[newData[:,rootNode.bestIndex] == '?']\n",
    "            newData = np.concatenate((newData[:,:rootNode.bestIndex], newData[:,rootNode.bestIndex+1:]), axis = 1)\n",
    "            if newData.shape[0] == 0 :\n",
    "                leaf = Node()\n",
    "                leaf.Class = rootNode.data[0][0]\n",
    "                rootNode.mid = leaf\n",
    "            else:\n",
    "                rootNode.mid =buildTree(GetBestIGNode(newData,rootNode.remainingCols))\n",
    "\n",
    "        if(rootNode.rightY == None):\n",
    "            newData = np.copy(rootNode.data)\n",
    "            newData = newData[newData[:,rootNode.bestIndex] == 'y']\n",
    "            newData = np.concatenate((newData[:,:rootNode.bestIndex], newData[:,rootNode.bestIndex+1:]), axis = 1)\n",
    "            if newData.shape[0] == 0 :\n",
    "                leaf = Node()\n",
    "                leaf.Class = rootNode.data[0][0]\n",
    "                rootNode.rightY = leaf\n",
    "            else:\n",
    "                rootNode.rightY = buildTree(GetBestIGNode(newData,rootNode.remainingCols))\n",
    "\n",
    "    return rootNode"
   ]
  },
  {
   "cell_type": "code",
   "execution_count": 7,
   "metadata": {
    "tags": []
   },
   "outputs": [],
   "source": [
    "def predict(rootNode, row):\n",
    "    if rootNode.Class != None:\n",
    "        return rootNode.Class\n",
    "    else:\n",
    "        if row[rootNode.bestIndex] == 'y':\n",
    "            return predict(rootNode.rightY, np.concatenate((row[:rootNode.bestIndex],row[rootNode.bestIndex+1:])))\n",
    "        elif row[rootNode.bestIndex] == 'n':\n",
    "            return predict(rootNode.leftN, np.concatenate((row[:rootNode.bestIndex],row[rootNode.bestIndex+1:])))\n",
    "        elif row[rootNode.bestIndex] == '?':\n",
    "            return predict(rootNode.mid, np.concatenate((row[:rootNode.bestIndex],row[rootNode.bestIndex+1:])))"
   ]
  },
  {
   "cell_type": "code",
   "execution_count": 8,
   "metadata": {
    "tags": []
   },
   "outputs": [],
   "source": [
    "def predictTestData(rootNode,testData):\n",
    "    right = 0\n",
    "    index = 0\n",
    "    for row in testData:\n",
    "        right = right + (1 if predict(rootNode,row) == testData[index][0] else 0)\n",
    "        index += 1\n",
    "    return ((right/testData.shape[0])*100)"
   ]
  },
  {
   "cell_type": "code",
   "execution_count": 9,
   "metadata": {
    "tags": []
   },
   "outputs": [
    {
     "output_type": "stream",
     "name": "stdout",
     "text": "Expermint 1 :\naccuracy : 94.18960244648318\ntree size : 10 \n\nExpermint 2 :\naccuracy : 93.88379204892966\ntree size : 20 \n\nExpermint 3 :\naccuracy : 91.13149847094802\ntree size : 18 \n\nExpermint 4 :\naccuracy : 91.43730886850153\ntree size : 18 \n\nExpermint 5 :\naccuracy : 91.74311926605505\ntree size : 14 \n\n"
    }
   ],
   "source": [
    "## Part_A Point_1 \n",
    "## 25%rondomly and rerun 5 times and Report the sizes and accuracies of these trees in each experiment\n",
    "for i in range(5):\n",
    "    origin, rem = splitRandom(original,25)\n",
    "    colNames = ['i1','i2','i3','i4','i5','i6','i7','i8','i9','i10','i11','i12','i13','i14','i15','i16']\n",
    "    curNode = GetBestIGNode(origin,colNames)\n",
    "    rootNode = buildTree(curNode)\n",
    "    print('Expermint', i+1, ':')\n",
    "    print('accuracy :', predictTestData(rootNode, rem))\n",
    "    print('tree size :', treeSize3(rootNode), '\\n')"
   ]
  },
  {
   "cell_type": "code",
   "execution_count": 10,
   "metadata": {
    "tags": []
   },
   "outputs": [
    {
     "output_type": "stream",
     "name": "stdout",
     "text": "Accuracies : [89.8360655737705, 95.01915708812261, 89.90825688073394, 89.65517241379311, 93.12977099236642]\nTree sizes : [19, 27, 29, 51, 35]\nmean accuracies : 91.50968458975731\nmaximum accuracy : 95.01915708812261\nminimum accuracies : 89.65517241379311\nmean sizes : 32.2\nmaximum sizes : 51\nminimum sizes : 19\n"
    }
   ],
   "source": [
    "## Part_A Point_2 \n",
    "## training set sizes (30-70%) report the mean, maximum and minimum accuracies at eachtraining set size.\n",
    "## Also measure the mean, max and min tree size\n",
    "sizes = [30, 40, 50, 60, 70]\n",
    "accuracies = []\n",
    "treeSizes = []\n",
    "for size in sizes:\n",
    "    data, rem = splitRandom(cols,size)\n",
    "    colNames = ['i1','i2','i3','i4','i5','i6','i7','i8','i9','i10','i11','i12','i13','i14','i15','i16']\n",
    "    rootNode = buildTree(GetBestIGNode(data,colNames))\n",
    "    accuracies.append(predictTestData(rootNode, rem))\n",
    "    treeSizes.append(treeSize(rootNode))\n",
    "print('Accuracies :', accuracies)\n",
    "print('Tree sizes :', treeSizes)\n",
    "print('mean accuracies :', np.mean(np.array(accuracies)) )\n",
    "print('maximum accuracy :', np.max(np.array(accuracies)) )\n",
    "print('minimum accuracies :', np.min(np.array(accuracies)) )\n",
    "print('mean sizes :', np.mean(np.array(treeSizes)) )\n",
    "print('maximum sizes :', np.max(np.array(treeSizes)) )\n",
    "print('minimum sizes :', np.min(np.array(treeSizes)) )"
   ]
  },
  {
   "cell_type": "code",
   "execution_count": null,
   "metadata": {},
   "outputs": [],
   "source": []
  }
 ]
}